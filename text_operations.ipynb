{
  "nbformat": 4,
  "nbformat_minor": 0,
  "metadata": {
    "colab": {
      "name": "text_operations.ipynb",
      "provenance": [],
      "authorship_tag": "ABX9TyMiaAl3/tlBa6ecl63497/F",
      "include_colab_link": true
    },
    "kernelspec": {
      "name": "python3",
      "display_name": "Python 3"
    },
    "language_info": {
      "name": "python"
    }
  },
  "cells": [
    {
      "cell_type": "markdown",
      "metadata": {
        "id": "view-in-github",
        "colab_type": "text"
      },
      "source": [
        "<a href=\"https://colab.research.google.com/github/MoreKajal/Text_Extraction/blob/main/text_operations.ipynb\" target=\"_parent\"><img src=\"https://colab.research.google.com/assets/colab-badge.svg\" alt=\"Open In Colab\"/></a>"
      ]
    },
    {
      "cell_type": "markdown",
      "metadata": {
        "id": "d03nEV0STqk9"
      },
      "source": [
        "Specific text extraction and replace some strings "
      ]
    },
    {
      "cell_type": "code",
      "metadata": {
        "colab": {
          "base_uri": "https://localhost:8080/"
        },
        "id": "SS20HH2QSkJY",
        "outputId": "8a0de233-488e-4ec8-fd5d-5b111dcd775d"
      },
      "source": [
        "from google.colab import drive\n",
        "drive.mount('/content/gdrive')"
      ],
      "execution_count": 2,
      "outputs": [
        {
          "output_type": "stream",
          "text": [
            "Mounted at /content/gdrive\n"
          ],
          "name": "stdout"
        }
      ]
    },
    {
      "cell_type": "code",
      "metadata": {
        "colab": {
          "base_uri": "https://localhost:8080/"
        },
        "id": "LjRuRivfbhoZ",
        "outputId": "b08178f9-ea82-4a04-91e3-b181a2923a16"
      },
      "source": [
        "file_path = '/content/gdrive/MyDrive/M.Tech Projects/Text Extraction/text_file.txt'\n",
        "\n",
        "#read/print contents of file\n",
        "with open(file_path, 'rt') as myfile:\n",
        "  read_text_file = myfile.read()\n",
        "print(read_text_file)"
      ],
      "execution_count": 3,
      "outputs": [
        {
          "output_type": "stream",
          "text": [
            "No man thinks more highly than I do of the patriotism, as well as the abilities of the very worthy gentlemen who have just addressed the house. \n",
            "But different men often see the same subject in different lights; and, therefore, I hope it will not be thought disrespectful to those gentlemen, if, entertaining as I do opinions of a character very opposite to theirs, I should speak forth my sentiments freely, and without reserve. \n",
            "This is no time for ceremony. The question before the house is one of awful moment to this country. \n",
            "Should I keep back my opinions at such a time, through fear of giving offense, I should consider myself as guilty of treason towards my country, and of an act of disloyalty toward the majesty of heaven, which I revere above all earthly kings.\n",
            "\n"
          ],
          "name": "stdout"
        }
      ]
    },
    {
      "cell_type": "code",
      "metadata": {
        "id": "GWA26h19cObh"
      },
      "source": [
        "#Enter string to search \n",
        "search_string = \"Should I keep back my opinions at such a time\""
      ],
      "execution_count": 4,
      "outputs": []
    },
    {
      "cell_type": "code",
      "metadata": {
        "colab": {
          "base_uri": "https://localhost:8080/"
        },
        "id": "Lj5mOKq4cmBR",
        "outputId": "526a23b4-6ade-475b-d880-2951668f5efd"
      },
      "source": [
        "#check condition for string found or not\n",
        "if search_string in read_text_file:\n",
        "  print(\"Given string -\", search_string, \" - is Found in Text File\")\n",
        "else:\n",
        "  print(\"Given string\", search_string, \"Not Found in Text File\")"
      ],
      "execution_count": 5,
      "outputs": [
        {
          "output_type": "stream",
          "text": [
            "Given string - Should I keep back my opinions at such a time  - is Found in Text File\n"
          ],
          "name": "stdout"
        }
      ]
    },
    {
      "cell_type": "code",
      "metadata": {
        "id": "RAvsU3vsdT4j"
      },
      "source": [
        "#Close file\n",
        "#myfile.close()"
      ],
      "execution_count": 6,
      "outputs": []
    },
    {
      "cell_type": "code",
      "metadata": {
        "colab": {
          "base_uri": "https://localhost:8080/"
        },
        "id": "nyuQujNXdwQs",
        "outputId": "bb9fb3ac-7127-4291-d447-36a3d54f4819"
      },
      "source": [
        "#Now search for index of search_string\n",
        "#For that we need to convert the file into list\n",
        "\n",
        "file_lines = []   #Create empty list\n",
        "with open(file_path, 'rt') as myfile:\n",
        "  for text_lines in myfile:\n",
        "    file_lines.append(text_lines)\n",
        "print(file_lines)\n",
        "print(\"The length of list is : \", len(file_lines))"
      ],
      "execution_count": 7,
      "outputs": [
        {
          "output_type": "stream",
          "text": [
            "['No man thinks more highly than I do of the patriotism, as well as the abilities of the very worthy gentlemen who have just addressed the house. \\n', 'But different men often see the same subject in different lights; and, therefore, I hope it will not be thought disrespectful to those gentlemen, if, entertaining as I do opinions of a character very opposite to theirs, I should speak forth my sentiments freely, and without reserve. \\n', 'This is no time for ceremony. The question before the house is one of awful moment to this country. \\n', 'Should I keep back my opinions at such a time, through fear of giving offense, I should consider myself as guilty of treason towards my country, and of an act of disloyalty toward the majesty of heaven, which I revere above all earthly kings.\\n']\n",
            "The length of list is :  4\n"
          ],
          "name": "stdout"
        }
      ]
    },
    {
      "cell_type": "code",
      "metadata": {
        "colab": {
          "base_uri": "https://localhost:8080/"
        },
        "id": "UWIFRMSWgN8c",
        "outputId": "7312589a-f2d5-406f-d961-f63fd0b21548"
      },
      "source": [
        "#Now if we want to read a particular sentence by list index\n",
        "print(file_lines[1])"
      ],
      "execution_count": 8,
      "outputs": [
        {
          "output_type": "stream",
          "text": [
            "But different men often see the same subject in different lights; and, therefore, I hope it will not be thought disrespectful to those gentlemen, if, entertaining as I do opinions of a character very opposite to theirs, I should speak forth my sentiments freely, and without reserve. \n",
            "\n"
          ],
          "name": "stdout"
        }
      ]
    },
    {
      "cell_type": "code",
      "metadata": {
        "colab": {
          "base_uri": "https://localhost:8080/",
          "height": 86
        },
        "id": "bedyRSyoga20",
        "outputId": "bf7b741f-0da9-4f34-808a-593f5d7c861e"
      },
      "source": [
        "#find first occurence of a substring\n",
        "\n",
        "#myfile = open(file_path, 'rt')\n",
        "res = read_text_file.find(search_string)\n",
        "print(\"Search string -\", search_string, \"found at index : \",res)\n",
        "print(len(search_string))\n",
        "\n",
        "'''\n",
        "#OR\n",
        "\n",
        "if (read_text_file.find(search_string) != -1):\n",
        "    print (\"File Contains given substring \")\n",
        "    print(\"Search string -\", search_string, \"found at index : \", res)\n",
        "else:\n",
        "    print (\"File Doesn't contains given substring\")\n",
        "'''"
      ],
      "execution_count": 9,
      "outputs": [
        {
          "output_type": "stream",
          "text": [
            "Search string - Should I keep back my opinions at such a time found at index :  531\n",
            "45\n"
          ],
          "name": "stdout"
        },
        {
          "output_type": "execute_result",
          "data": {
            "application/vnd.google.colaboratory.intrinsic+json": {
              "type": "string"
            },
            "text/plain": [
              "'\\n#OR\\n\\nif (read_text_file.find(search_string) != -1):\\n    print (\"File Contains given substring \")\\n    print(\"Search string -\", search_string, \"found at index : \", res)\\nelse:\\n    print (\"File Doesn\\'t contains given substring\")\\n'"
            ]
          },
          "metadata": {
            "tags": []
          },
          "execution_count": 9
        }
      ]
    },
    {
      "cell_type": "code",
      "metadata": {
        "colab": {
          "base_uri": "https://localhost:8080/"
        },
        "id": "qp-EktoAknxK",
        "outputId": "81e01dd1-6ed0-471d-857f-7fc41b33dec4"
      },
      "source": [
        "# Now if we want to add something after the search string\n",
        "#Our main string is - 'read_text_file' content\n",
        "\n",
        "# using join() + list() + insert()\n",
        "# Add substring at specific index \n",
        "# Initialize index where to append new string\n",
        "\n",
        "position = res + len(search_string) + 1    #search_string index + len of search string + 1 to maintain spacing\n",
        "new_file = list(read_text_file)\n",
        "add_string = \"THIS IS THE ADDED STRING \"\n",
        "new_file.insert(position, add_string)\n",
        "result = ''.join(new_file)\n",
        "print(\"The string after performing addition : \" + str(result))\n"
      ],
      "execution_count": 10,
      "outputs": [
        {
          "output_type": "stream",
          "text": [
            "The string after performing addition : No man thinks more highly than I do of the patriotism, as well as the abilities of the very worthy gentlemen who have just addressed the house. \n",
            "But different men often see the same subject in different lights; and, therefore, I hope it will not be thought disrespectful to those gentlemen, if, entertaining as I do opinions of a character very opposite to theirs, I should speak forth my sentiments freely, and without reserve. \n",
            "This is no time for ceremony. The question before the house is one of awful moment to this country. \n",
            "Should I keep back my opinions at such a time,THIS IS THE ADDED STRING  through fear of giving offense, I should consider myself as guilty of treason towards my country, and of an act of disloyalty toward the majesty of heaven, which I revere above all earthly kings.\n",
            "\n"
          ],
          "name": "stdout"
        }
      ]
    },
    {
      "cell_type": "code",
      "metadata": {
        "colab": {
          "base_uri": "https://localhost:8080/"
        },
        "id": "XEJAf1EAqlO7",
        "outputId": "00d06fda-e87f-47df-937a-11cd381bfc1e"
      },
      "source": [
        "#Now if we want to replace next coming string of search_string\n",
        "\n",
        "position = res + len(search_string) + 1\n",
        "new_file = list(read_text_file)\n",
        "replace_string = \"THIS IS THE ADDED STRING \\n CHECK IT IS WORKING RIGHT OR NOT \\n\"\n",
        "\n",
        "result = read_text_file[:position] + replace_string \n",
        "\n",
        "#result = read_text_file[:position] + replace_string #+ read_text_file[position+1:]  #this will add search_string in between\n",
        "\n",
        "print(result)\n",
        "myfile.close()"
      ],
      "execution_count": 11,
      "outputs": [
        {
          "output_type": "stream",
          "text": [
            "No man thinks more highly than I do of the patriotism, as well as the abilities of the very worthy gentlemen who have just addressed the house. \n",
            "But different men often see the same subject in different lights; and, therefore, I hope it will not be thought disrespectful to those gentlemen, if, entertaining as I do opinions of a character very opposite to theirs, I should speak forth my sentiments freely, and without reserve. \n",
            "This is no time for ceremony. The question before the house is one of awful moment to this country. \n",
            "Should I keep back my opinions at such a time,THIS IS THE ADDED STRING \n",
            " CHECK IT IS WORKING RIGHT OR NOT \n",
            "\n"
          ],
          "name": "stdout"
        }
      ]
    }
  ]
}